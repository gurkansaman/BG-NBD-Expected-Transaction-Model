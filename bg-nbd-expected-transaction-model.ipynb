{
 "cells": [
  {
   "cell_type": "markdown",
   "id": "8f6a7ed5",
   "metadata": {
    "papermill": {
     "duration": 0.00927,
     "end_time": "2021-07-24T20:30:21.030620",
     "exception": false,
     "start_time": "2021-07-24T20:30:21.021350",
     "status": "completed"
    },
    "tags": []
   },
   "source": [
    "## BG-NBD ~ Expected Transaction Model\n",
    "\n",
    "**This model was proposed by Fader, Hardie and Lee and is called Beta Geometric / Negative Binomial distribution model (BG/NBD). BG/NBD model has the following properties: When a user is active, a number of his or her transactions in a time period of length t is described by Poisson distribution with transaction rate λ**"
   ]
  },
  {
   "cell_type": "code",
   "execution_count": 1,
   "id": "f9d70152",
   "metadata": {
    "_kg_hide-output": true,
    "execution": {
     "iopub.execute_input": "2021-07-24T20:30:21.060586Z",
     "iopub.status.busy": "2021-07-24T20:30:21.059787Z",
     "iopub.status.idle": "2021-07-24T20:30:37.431032Z",
     "shell.execute_reply": "2021-07-24T20:30:37.430350Z",
     "shell.execute_reply.started": "2021-07-24T09:24:25.028157Z"
    },
    "papermill": {
     "duration": 16.389413,
     "end_time": "2021-07-24T20:30:37.431204",
     "exception": false,
     "start_time": "2021-07-24T20:30:21.041791",
     "status": "completed"
    },
    "tags": []
   },
   "outputs": [
    {
     "name": "stdout",
     "output_type": "stream",
     "text": [
      "Collecting openpyxl\r\n",
      "  Downloading openpyxl-3.0.7-py2.py3-none-any.whl (243 kB)\r\n",
      "\u001b[K     |████████████████████████████████| 243 kB 5.5 MB/s \r\n",
      "\u001b[?25hCollecting et-xmlfile\r\n",
      "  Downloading et_xmlfile-1.1.0-py3-none-any.whl (4.7 kB)\r\n",
      "Installing collected packages: et-xmlfile, openpyxl\r\n",
      "Successfully installed et-xmlfile-1.1.0 openpyxl-3.0.7\r\n",
      "\u001b[33mWARNING: Running pip as root will break packages and permissions. You should install packages reliably by using venv: https://pip.pypa.io/warnings/venv\u001b[0m\r\n",
      "Collecting lifetimes\r\n",
      "  Downloading Lifetimes-0.11.3-py3-none-any.whl (584 kB)\r\n",
      "\u001b[K     |████████████████████████████████| 584 kB 5.4 MB/s \r\n",
      "\u001b[?25hRequirement already satisfied: numpy>=1.10.0 in /opt/conda/lib/python3.7/site-packages (from lifetimes) (1.19.5)\r\n",
      "Requirement already satisfied: pandas>=0.24.0 in /opt/conda/lib/python3.7/site-packages (from lifetimes) (1.2.4)\r\n",
      "Collecting autograd>=1.2.0\r\n",
      "  Downloading autograd-1.3.tar.gz (38 kB)\r\n",
      "Requirement already satisfied: dill>=0.2.6 in /opt/conda/lib/python3.7/site-packages (from lifetimes) (0.3.4)\r\n",
      "Requirement already satisfied: scipy>=1.0.0 in /opt/conda/lib/python3.7/site-packages (from lifetimes) (1.6.3)\r\n",
      "Requirement already satisfied: future>=0.15.2 in /opt/conda/lib/python3.7/site-packages (from autograd>=1.2.0->lifetimes) (0.18.2)\r\n",
      "Requirement already satisfied: python-dateutil>=2.7.3 in /opt/conda/lib/python3.7/site-packages (from pandas>=0.24.0->lifetimes) (2.8.1)\r\n",
      "Requirement already satisfied: pytz>=2017.3 in /opt/conda/lib/python3.7/site-packages (from pandas>=0.24.0->lifetimes) (2021.1)\r\n",
      "Requirement already satisfied: six>=1.5 in /opt/conda/lib/python3.7/site-packages (from python-dateutil>=2.7.3->pandas>=0.24.0->lifetimes) (1.15.0)\r\n",
      "Building wheels for collected packages: autograd\r\n",
      "  Building wheel for autograd (setup.py) ... \u001b[?25l-\b \b\\\b \bdone\r\n",
      "\u001b[?25h  Created wheel for autograd: filename=autograd-1.3-py3-none-any.whl size=47989 sha256=cb49d2d59ac216740c7407be7c35692219c21598824736c9724185ef264c9d30\r\n",
      "  Stored in directory: /root/.cache/pip/wheels/ef/32/31/0e87227cd0ca1d99ad51fbe4b54c6fa02afccf7e483d045e04\r\n",
      "Successfully built autograd\r\n",
      "Installing collected packages: autograd, lifetimes\r\n",
      "Successfully installed autograd-1.3 lifetimes-0.11.3\r\n",
      "\u001b[33mWARNING: Running pip as root will break packages and permissions. You should install packages reliably by using venv: https://pip.pypa.io/warnings/venv\u001b[0m\r\n"
     ]
    }
   ],
   "source": [
    "! pip install openpyxl\n",
    "! pip install lifetimes"
   ]
  },
  {
   "cell_type": "code",
   "execution_count": 2,
   "id": "2df72e27",
   "metadata": {
    "execution": {
     "iopub.execute_input": "2021-07-24T20:30:37.462902Z",
     "iopub.status.busy": "2021-07-24T20:30:37.462226Z",
     "iopub.status.idle": "2021-07-24T20:30:38.421846Z",
     "shell.execute_reply": "2021-07-24T20:30:38.421248Z",
     "shell.execute_reply.started": "2021-07-24T09:24:45.104592Z"
    },
    "papermill": {
     "duration": 0.977693,
     "end_time": "2021-07-24T20:30:38.421987",
     "exception": false,
     "start_time": "2021-07-24T20:30:37.444294",
     "status": "completed"
    },
    "tags": []
   },
   "outputs": [],
   "source": [
    "import datetime as dt\n",
    "import pandas as pd\n",
    "import matplotlib.pyplot as plt\n",
    "from lifetimes import BetaGeoFitter\n",
    "from lifetimes import GammaGammaFitter\n",
    "from lifetimes.plotting import plot_period_transactions\n",
    "import numpy as np\n",
    "import warnings\n",
    "warnings.filterwarnings('ignore')"
   ]
  },
  {
   "cell_type": "code",
   "execution_count": 3,
   "id": "aa1638da",
   "metadata": {
    "execution": {
     "iopub.execute_input": "2021-07-24T20:30:38.454006Z",
     "iopub.status.busy": "2021-07-24T20:30:38.452687Z",
     "iopub.status.idle": "2021-07-24T20:31:55.028580Z",
     "shell.execute_reply": "2021-07-24T20:31:55.029328Z",
     "shell.execute_reply.started": "2021-07-24T09:24:47.926883Z"
    },
    "papermill": {
     "duration": 76.594275,
     "end_time": "2021-07-24T20:31:55.029559",
     "exception": false,
     "start_time": "2021-07-24T20:30:38.435284",
     "status": "completed"
    },
    "tags": []
   },
   "outputs": [],
   "source": [
    "df = pd.read_excel('/kaggle/input/online-retail/online_retail.xlsx', sheet_name=\"Year 2010-2011\", engine='openpyxl')"
   ]
  },
  {
   "cell_type": "code",
   "execution_count": 4,
   "id": "04f0a9e0",
   "metadata": {
    "execution": {
     "iopub.execute_input": "2021-07-24T20:31:55.099179Z",
     "iopub.status.busy": "2021-07-24T20:31:55.098496Z",
     "iopub.status.idle": "2021-07-24T20:31:55.153990Z",
     "shell.execute_reply": "2021-07-24T20:31:55.154432Z",
     "shell.execute_reply.started": "2021-07-24T09:26:33.641785Z"
    },
    "papermill": {
     "duration": 0.111367,
     "end_time": "2021-07-24T20:31:55.154613",
     "exception": false,
     "start_time": "2021-07-24T20:31:55.043246",
     "status": "completed"
    },
    "tags": []
   },
   "outputs": [],
   "source": [
    "# Analysis for United Kingdom\n",
    "\n",
    "df=df[df[\"Country\"]==\"United Kingdom\"]"
   ]
  },
  {
   "cell_type": "code",
   "execution_count": 5,
   "id": "44eb479a",
   "metadata": {
    "execution": {
     "iopub.execute_input": "2021-07-24T20:31:55.189319Z",
     "iopub.status.busy": "2021-07-24T20:31:55.188694Z",
     "iopub.status.idle": "2021-07-24T20:31:55.906910Z",
     "shell.execute_reply": "2021-07-24T20:31:55.907442Z",
     "shell.execute_reply.started": "2021-07-24T09:26:33.786362Z"
    },
    "papermill": {
     "duration": 0.740292,
     "end_time": "2021-07-24T20:31:55.907691",
     "exception": false,
     "start_time": "2021-07-24T20:31:55.167399",
     "status": "completed"
    },
    "tags": []
   },
   "outputs": [
    {
     "data": {
      "text/html": [
       "<div>\n",
       "<style scoped>\n",
       "    .dataframe tbody tr th:only-of-type {\n",
       "        vertical-align: middle;\n",
       "    }\n",
       "\n",
       "    .dataframe tbody tr th {\n",
       "        vertical-align: top;\n",
       "    }\n",
       "\n",
       "    .dataframe thead th {\n",
       "        text-align: right;\n",
       "    }\n",
       "</style>\n",
       "<table border=\"1\" class=\"dataframe\">\n",
       "  <thead>\n",
       "    <tr style=\"text-align: right;\">\n",
       "      <th></th>\n",
       "      <th>Invoice</th>\n",
       "      <th>StockCode</th>\n",
       "      <th>Description</th>\n",
       "      <th>Quantity</th>\n",
       "      <th>InvoiceDate</th>\n",
       "      <th>Price</th>\n",
       "      <th>Customer ID</th>\n",
       "      <th>Country</th>\n",
       "      <th>TotalPrice</th>\n",
       "    </tr>\n",
       "  </thead>\n",
       "  <tbody>\n",
       "    <tr>\n",
       "      <th>0</th>\n",
       "      <td>536365</td>\n",
       "      <td>85123A</td>\n",
       "      <td>WHITE HANGING HEART T-LIGHT HOLDER</td>\n",
       "      <td>6.0</td>\n",
       "      <td>2010-12-01 08:26:00</td>\n",
       "      <td>2.55</td>\n",
       "      <td>17850.0</td>\n",
       "      <td>United Kingdom</td>\n",
       "      <td>15.30</td>\n",
       "    </tr>\n",
       "    <tr>\n",
       "      <th>1</th>\n",
       "      <td>536365</td>\n",
       "      <td>71053</td>\n",
       "      <td>WHITE METAL LANTERN</td>\n",
       "      <td>6.0</td>\n",
       "      <td>2010-12-01 08:26:00</td>\n",
       "      <td>3.39</td>\n",
       "      <td>17850.0</td>\n",
       "      <td>United Kingdom</td>\n",
       "      <td>20.34</td>\n",
       "    </tr>\n",
       "    <tr>\n",
       "      <th>2</th>\n",
       "      <td>536365</td>\n",
       "      <td>84406B</td>\n",
       "      <td>CREAM CUPID HEARTS COAT HANGER</td>\n",
       "      <td>8.0</td>\n",
       "      <td>2010-12-01 08:26:00</td>\n",
       "      <td>2.75</td>\n",
       "      <td>17850.0</td>\n",
       "      <td>United Kingdom</td>\n",
       "      <td>22.00</td>\n",
       "    </tr>\n",
       "    <tr>\n",
       "      <th>3</th>\n",
       "      <td>536365</td>\n",
       "      <td>84029G</td>\n",
       "      <td>KNITTED UNION FLAG HOT WATER BOTTLE</td>\n",
       "      <td>6.0</td>\n",
       "      <td>2010-12-01 08:26:00</td>\n",
       "      <td>3.39</td>\n",
       "      <td>17850.0</td>\n",
       "      <td>United Kingdom</td>\n",
       "      <td>20.34</td>\n",
       "    </tr>\n",
       "    <tr>\n",
       "      <th>4</th>\n",
       "      <td>536365</td>\n",
       "      <td>84029E</td>\n",
       "      <td>RED WOOLLY HOTTIE WHITE HEART.</td>\n",
       "      <td>6.0</td>\n",
       "      <td>2010-12-01 08:26:00</td>\n",
       "      <td>3.39</td>\n",
       "      <td>17850.0</td>\n",
       "      <td>United Kingdom</td>\n",
       "      <td>20.34</td>\n",
       "    </tr>\n",
       "  </tbody>\n",
       "</table>\n",
       "</div>"
      ],
      "text/plain": [
       "  Invoice StockCode                          Description  Quantity  \\\n",
       "0  536365    85123A   WHITE HANGING HEART T-LIGHT HOLDER       6.0   \n",
       "1  536365     71053                  WHITE METAL LANTERN       6.0   \n",
       "2  536365    84406B       CREAM CUPID HEARTS COAT HANGER       8.0   \n",
       "3  536365    84029G  KNITTED UNION FLAG HOT WATER BOTTLE       6.0   \n",
       "4  536365    84029E       RED WOOLLY HOTTIE WHITE HEART.       6.0   \n",
       "\n",
       "          InvoiceDate  Price  Customer ID         Country  TotalPrice  \n",
       "0 2010-12-01 08:26:00   2.55      17850.0  United Kingdom       15.30  \n",
       "1 2010-12-01 08:26:00   3.39      17850.0  United Kingdom       20.34  \n",
       "2 2010-12-01 08:26:00   2.75      17850.0  United Kingdom       22.00  \n",
       "3 2010-12-01 08:26:00   3.39      17850.0  United Kingdom       20.34  \n",
       "4 2010-12-01 08:26:00   3.39      17850.0  United Kingdom       20.34  "
      ]
     },
     "execution_count": 5,
     "metadata": {},
     "output_type": "execute_result"
    }
   ],
   "source": [
    "#########################\n",
    "# Pre Processing\n",
    "#########################\n",
    "\n",
    "def outlier_thresholds(dataframe, variable):\n",
    "    quartile1 = dataframe[variable].quantile(0.01)\n",
    "    quartile3 = dataframe[variable].quantile(0.99)\n",
    "    interquantile_range = quartile3 - quartile1\n",
    "    up_limit = quartile3 + 1.5 * interquantile_range\n",
    "    low_limit = quartile1 - 1.5 * interquantile_range\n",
    "    return low_limit, up_limit\n",
    "\n",
    "\n",
    "def replace_with_thresholds(dataframe, variable):\n",
    "    low_limit, up_limit = outlier_thresholds(dataframe, variable)\n",
    "    dataframe.loc[(dataframe[variable] < low_limit), variable] = low_limit\n",
    "    dataframe.loc[(dataframe[variable] > up_limit), variable] = up_limit\n",
    "\n",
    "df.dropna(inplace=True)\n",
    "df = df[~df[\"Invoice\"].str.contains(\"C\", na=False)]\n",
    "df = df[df[\"Quantity\"] > 0]\n",
    "\n",
    "replace_with_thresholds(df, \"Quantity\")\n",
    "replace_with_thresholds(df, \"Price\")\n",
    "df.describe().T\n",
    "\n",
    "df[\"TotalPrice\"] = df[\"Quantity\"] * df[\"Price\"]\n",
    "\n",
    "today_date = dt.datetime(2011, 12, 11)\n",
    "\n",
    "df.head()"
   ]
  },
  {
   "cell_type": "code",
   "execution_count": 6,
   "id": "0ab42cd5",
   "metadata": {
    "execution": {
     "iopub.execute_input": "2021-07-24T20:31:55.943648Z",
     "iopub.status.busy": "2021-07-24T20:31:55.943005Z",
     "iopub.status.idle": "2021-07-24T20:31:58.066845Z",
     "shell.execute_reply": "2021-07-24T20:31:58.066204Z",
     "shell.execute_reply.started": "2021-07-24T09:26:50.37188Z"
    },
    "papermill": {
     "duration": 2.145502,
     "end_time": "2021-07-24T20:31:58.067002",
     "exception": false,
     "start_time": "2021-07-24T20:31:55.921500",
     "status": "completed"
    },
    "tags": []
   },
   "outputs": [
    {
     "data": {
      "text/html": [
       "<div>\n",
       "<style scoped>\n",
       "    .dataframe tbody tr th:only-of-type {\n",
       "        vertical-align: middle;\n",
       "    }\n",
       "\n",
       "    .dataframe tbody tr th {\n",
       "        vertical-align: top;\n",
       "    }\n",
       "\n",
       "    .dataframe thead th {\n",
       "        text-align: right;\n",
       "    }\n",
       "</style>\n",
       "<table border=\"1\" class=\"dataframe\">\n",
       "  <thead>\n",
       "    <tr style=\"text-align: right;\">\n",
       "      <th></th>\n",
       "      <th>recency</th>\n",
       "      <th>T</th>\n",
       "      <th>frequency</th>\n",
       "      <th>monetary</th>\n",
       "    </tr>\n",
       "    <tr>\n",
       "      <th>Customer ID</th>\n",
       "      <th></th>\n",
       "      <th></th>\n",
       "      <th></th>\n",
       "      <th></th>\n",
       "    </tr>\n",
       "  </thead>\n",
       "  <tbody>\n",
       "    <tr>\n",
       "      <th>12346.0</th>\n",
       "      <td>0</td>\n",
       "      <td>326</td>\n",
       "      <td>1</td>\n",
       "      <td>258.440000</td>\n",
       "    </tr>\n",
       "    <tr>\n",
       "      <th>12747.0</th>\n",
       "      <td>366</td>\n",
       "      <td>370</td>\n",
       "      <td>11</td>\n",
       "      <td>381.455455</td>\n",
       "    </tr>\n",
       "    <tr>\n",
       "      <th>12748.0</th>\n",
       "      <td>372</td>\n",
       "      <td>374</td>\n",
       "      <td>210</td>\n",
       "      <td>153.828143</td>\n",
       "    </tr>\n",
       "    <tr>\n",
       "      <th>12749.0</th>\n",
       "      <td>209</td>\n",
       "      <td>214</td>\n",
       "      <td>5</td>\n",
       "      <td>814.488000</td>\n",
       "    </tr>\n",
       "    <tr>\n",
       "      <th>12820.0</th>\n",
       "      <td>323</td>\n",
       "      <td>327</td>\n",
       "      <td>4</td>\n",
       "      <td>235.585000</td>\n",
       "    </tr>\n",
       "  </tbody>\n",
       "</table>\n",
       "</div>"
      ],
      "text/plain": [
       "             recency    T  frequency    monetary\n",
       "Customer ID                                     \n",
       "12346.0            0  326          1  258.440000\n",
       "12747.0          366  370         11  381.455455\n",
       "12748.0          372  374        210  153.828143\n",
       "12749.0          209  214          5  814.488000\n",
       "12820.0          323  327          4  235.585000"
      ]
     },
     "execution_count": 6,
     "metadata": {},
     "output_type": "execute_result"
    }
   ],
   "source": [
    "\n",
    "#########################\n",
    "# Preparing Dataset\n",
    "#########################\n",
    "\n",
    "# Recency: How recently a customer has made a purchase\n",
    "# Frequency: How often a customer makes a purchase\n",
    "# Monetary Value: How much money a customer spends on purchases\n",
    "\n",
    "cltv_df = df.groupby('Customer ID').agg({'InvoiceDate': [lambda date: (date.max() - date.min()).days,\n",
    "                                                         lambda date: (today_date - date.min()).days],\n",
    "                                        'Invoice': lambda num: num.nunique(),\n",
    "                                        'TotalPrice': lambda TotalPrice: TotalPrice.sum()})\n",
    "\n",
    "cltv_df.columns = cltv_df.columns.droplevel(0)\n",
    "cltv_df.columns = ['recency', 'T', 'frequency', 'monetary']\n",
    "\n",
    "cltv_df[\"monetary\"] = cltv_df[\"monetary\"] / cltv_df[\"frequency\"]\n",
    "\n",
    "cltv_df = cltv_df[cltv_df[\"monetary\"] > 0]\n",
    "\n",
    "cltv_df.head()"
   ]
  },
  {
   "cell_type": "code",
   "execution_count": 7,
   "id": "0f64de95",
   "metadata": {
    "execution": {
     "iopub.execute_input": "2021-07-24T20:31:58.101289Z",
     "iopub.status.busy": "2021-07-24T20:31:58.100661Z",
     "iopub.status.idle": "2021-07-24T20:31:58.103913Z",
     "shell.execute_reply": "2021-07-24T20:31:58.103275Z",
     "shell.execute_reply.started": "2021-07-24T09:27:24.103985Z"
    },
    "papermill": {
     "duration": 0.022606,
     "end_time": "2021-07-24T20:31:58.104057",
     "exception": false,
     "start_time": "2021-07-24T20:31:58.081451",
     "status": "completed"
    },
    "tags": []
   },
   "outputs": [],
   "source": [
    "# Recency and T value is converted to \"Weekly\" \n",
    "cltv_df[\"recency\"] = cltv_df[\"recency\"] / 7\n",
    "cltv_df[\"T\"] = cltv_df[\"T\"] / 7"
   ]
  },
  {
   "cell_type": "code",
   "execution_count": 8,
   "id": "fbdc30a5",
   "metadata": {
    "execution": {
     "iopub.execute_input": "2021-07-24T20:31:58.137281Z",
     "iopub.status.busy": "2021-07-24T20:31:58.136359Z",
     "iopub.status.idle": "2021-07-24T20:31:58.139950Z",
     "shell.execute_reply": "2021-07-24T20:31:58.140366Z",
     "shell.execute_reply.started": "2021-07-24T09:27:29.98711Z"
    },
    "papermill": {
     "duration": 0.022351,
     "end_time": "2021-07-24T20:31:58.140548",
     "exception": false,
     "start_time": "2021-07-24T20:31:58.118197",
     "status": "completed"
    },
    "tags": []
   },
   "outputs": [],
   "source": [
    "# If there is lower 1 transaction value, then they are not selected: \n",
    "cltv_df = cltv_df[(cltv_df['frequency'] > 1)]"
   ]
  },
  {
   "cell_type": "code",
   "execution_count": 9,
   "id": "ced4a880",
   "metadata": {
    "execution": {
     "iopub.execute_input": "2021-07-24T20:31:58.174013Z",
     "iopub.status.busy": "2021-07-24T20:31:58.173339Z",
     "iopub.status.idle": "2021-07-24T20:31:58.343772Z",
     "shell.execute_reply": "2021-07-24T20:31:58.344551Z",
     "shell.execute_reply.started": "2021-07-24T09:27:42.340303Z"
    },
    "papermill": {
     "duration": 0.190369,
     "end_time": "2021-07-24T20:31:58.344865",
     "exception": false,
     "start_time": "2021-07-24T20:31:58.154496",
     "status": "completed"
    },
    "tags": []
   },
   "outputs": [],
   "source": [
    "\n",
    "bgf = BetaGeoFitter(penalizer_coef=0.001)\n",
    "\n",
    "bgf.fit(cltv_df['frequency'],\n",
    "        cltv_df['recency'],\n",
    "        cltv_df['T'])\n",
    "\n",
    "# 1 haftalık beklenen transaction\n",
    "cltv_df[\"expected_purc_1_week\"] = bgf.predict(1,\n",
    "                                              cltv_df['frequency'],\n",
    "                                              cltv_df['recency'],\n",
    "                                              cltv_df['T'])"
   ]
  },
  {
   "cell_type": "code",
   "execution_count": 10,
   "id": "2fe6605b",
   "metadata": {
    "execution": {
     "iopub.execute_input": "2021-07-24T20:31:58.417719Z",
     "iopub.status.busy": "2021-07-24T20:31:58.416246Z",
     "iopub.status.idle": "2021-07-24T20:31:58.430001Z",
     "shell.execute_reply": "2021-07-24T20:31:58.431366Z",
     "shell.execute_reply.started": "2021-07-24T09:27:57.003905Z"
    },
    "papermill": {
     "duration": 0.060054,
     "end_time": "2021-07-24T20:31:58.431660",
     "exception": false,
     "start_time": "2021-07-24T20:31:58.371606",
     "status": "completed"
    },
    "tags": []
   },
   "outputs": [],
   "source": [
    "# For one Monthly, Expcexted Purchase Transactions count\n",
    "cltv_df[\"expected_purc_1_month\"] = bgf.predict(4,\n",
    "                                               cltv_df['frequency'],\n",
    "                                               cltv_df['recency'],\n",
    "                                               cltv_df['T'])"
   ]
  },
  {
   "cell_type": "code",
   "execution_count": 11,
   "id": "44dfa66c",
   "metadata": {
    "execution": {
     "iopub.execute_input": "2021-07-24T20:31:58.473749Z",
     "iopub.status.busy": "2021-07-24T20:31:58.468845Z",
     "iopub.status.idle": "2021-07-24T20:31:58.478155Z",
     "shell.execute_reply": "2021-07-24T20:31:58.477491Z",
     "shell.execute_reply.started": "2021-07-24T09:28:03.632811Z"
    },
    "papermill": {
     "duration": 0.030775,
     "end_time": "2021-07-24T20:31:58.478297",
     "exception": false,
     "start_time": "2021-07-24T20:31:58.447522",
     "status": "completed"
    },
    "tags": []
   },
   "outputs": [
    {
     "data": {
      "text/html": [
       "<div>\n",
       "<style scoped>\n",
       "    .dataframe tbody tr th:only-of-type {\n",
       "        vertical-align: middle;\n",
       "    }\n",
       "\n",
       "    .dataframe tbody tr th {\n",
       "        vertical-align: top;\n",
       "    }\n",
       "\n",
       "    .dataframe thead th {\n",
       "        text-align: right;\n",
       "    }\n",
       "</style>\n",
       "<table border=\"1\" class=\"dataframe\">\n",
       "  <thead>\n",
       "    <tr style=\"text-align: right;\">\n",
       "      <th></th>\n",
       "      <th>recency</th>\n",
       "      <th>T</th>\n",
       "      <th>frequency</th>\n",
       "      <th>monetary</th>\n",
       "      <th>expected_purc_1_week</th>\n",
       "      <th>expected_purc_1_month</th>\n",
       "    </tr>\n",
       "    <tr>\n",
       "      <th>Customer ID</th>\n",
       "      <th></th>\n",
       "      <th></th>\n",
       "      <th></th>\n",
       "      <th></th>\n",
       "      <th></th>\n",
       "      <th></th>\n",
       "    </tr>\n",
       "  </thead>\n",
       "  <tbody>\n",
       "    <tr>\n",
       "      <th>12747.0</th>\n",
       "      <td>52.285714</td>\n",
       "      <td>52.857143</td>\n",
       "      <td>11</td>\n",
       "      <td>381.455455</td>\n",
       "      <td>0.202479</td>\n",
       "      <td>0.807679</td>\n",
       "    </tr>\n",
       "    <tr>\n",
       "      <th>12748.0</th>\n",
       "      <td>53.142857</td>\n",
       "      <td>53.428571</td>\n",
       "      <td>210</td>\n",
       "      <td>153.828143</td>\n",
       "      <td>3.252952</td>\n",
       "      <td>12.977515</td>\n",
       "    </tr>\n",
       "    <tr>\n",
       "      <th>12749.0</th>\n",
       "      <td>29.857143</td>\n",
       "      <td>30.571429</td>\n",
       "      <td>5</td>\n",
       "      <td>814.488000</td>\n",
       "      <td>0.167149</td>\n",
       "      <td>0.665729</td>\n",
       "    </tr>\n",
       "    <tr>\n",
       "      <th>12820.0</th>\n",
       "      <td>46.142857</td>\n",
       "      <td>46.714286</td>\n",
       "      <td>4</td>\n",
       "      <td>235.585000</td>\n",
       "      <td>0.103972</td>\n",
       "      <td>0.414566</td>\n",
       "    </tr>\n",
       "    <tr>\n",
       "      <th>12822.0</th>\n",
       "      <td>2.285714</td>\n",
       "      <td>12.571429</td>\n",
       "      <td>2</td>\n",
       "      <td>474.440000</td>\n",
       "      <td>0.129141</td>\n",
       "      <td>0.512653</td>\n",
       "    </tr>\n",
       "  </tbody>\n",
       "</table>\n",
       "</div>"
      ],
      "text/plain": [
       "               recency          T  frequency    monetary  \\\n",
       "Customer ID                                                \n",
       "12747.0      52.285714  52.857143         11  381.455455   \n",
       "12748.0      53.142857  53.428571        210  153.828143   \n",
       "12749.0      29.857143  30.571429          5  814.488000   \n",
       "12820.0      46.142857  46.714286          4  235.585000   \n",
       "12822.0       2.285714  12.571429          2  474.440000   \n",
       "\n",
       "             expected_purc_1_week  expected_purc_1_month  \n",
       "Customer ID                                               \n",
       "12747.0                  0.202479               0.807679  \n",
       "12748.0                  3.252952              12.977515  \n",
       "12749.0                  0.167149               0.665729  \n",
       "12820.0                  0.103972               0.414566  \n",
       "12822.0                  0.129141               0.512653  "
      ]
     },
     "execution_count": 11,
     "metadata": {},
     "output_type": "execute_result"
    }
   ],
   "source": [
    "cltv_df.head()"
   ]
  }
 ],
 "metadata": {
  "kernelspec": {
   "display_name": "Python 3",
   "language": "python",
   "name": "python3"
  },
  "language_info": {
   "codemirror_mode": {
    "name": "ipython",
    "version": 3
   },
   "file_extension": ".py",
   "mimetype": "text/x-python",
   "name": "python",
   "nbconvert_exporter": "python",
   "pygments_lexer": "ipython3",
   "version": "3.7.10"
  },
  "papermill": {
   "default_parameters": {},
   "duration": 106.916274,
   "end_time": "2021-07-24T20:32:00.397130",
   "environment_variables": {},
   "exception": null,
   "input_path": "__notebook__.ipynb",
   "output_path": "__notebook__.ipynb",
   "parameters": {},
   "start_time": "2021-07-24T20:30:13.480856",
   "version": "2.3.3"
  }
 },
 "nbformat": 4,
 "nbformat_minor": 5
}
